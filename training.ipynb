{
 "cells": [
  {
   "cell_type": "code",
   "execution_count": 49,
   "metadata": {},
   "outputs": [],
   "source": [
    "import pandas as pd\n",
    "import seaborn as sns\n",
    "import matplotlib.pyplot as plt\n",
    "from sklearn.model_selection import train_test_split\n",
    "from sklearn.preprocessing import OneHotEncoder\n",
    "from sklearn.ensemble import RandomForestClassifier, GradientBoostingClassifier\n",
    "from sklearn.linear_model import SGDClassifier\n",
    "from sklearn.metrics import accuracy_score, f1_score"
   ]
  },
  {
   "cell_type": "code",
   "execution_count": 27,
   "metadata": {},
   "outputs": [],
   "source": [
    "df = pd.read_csv('./data/fake_job_postings.csv')"
   ]
  },
  {
   "cell_type": "code",
   "execution_count": 28,
   "metadata": {},
   "outputs": [],
   "source": [
    "# Drop columns that are not useful\n",
    "\n",
    "df = df.drop(['job_id', 'department', 'salary_range'], axis=1)"
   ]
  },
  {
   "cell_type": "code",
   "execution_count": 29,
   "metadata": {},
   "outputs": [
    {
     "name": "stderr",
     "output_type": "stream",
     "text": [
      "/tmp/ipykernel_21527/2083166966.py:4: FutureWarning: A value is trying to be set on a copy of a DataFrame or Series through chained assignment using an inplace method.\n",
      "The behavior will change in pandas 3.0. This inplace method will never work because the intermediate object on which we are setting values always behaves as a copy.\n",
      "\n",
      "For example, when doing 'df[col].method(value, inplace=True)', try using 'df.method({col: value}, inplace=True)' or df[col] = df[col].method(value) instead, to perform the operation inplace on the original object.\n",
      "\n",
      "\n",
      "  df[column].fillna(df[column].mode()[0], inplace=True)\n"
     ]
    }
   ],
   "source": [
    "# Standarization categorical nan values use mode\n",
    "\n",
    "for column in df.select_dtypes(include=['object']).columns:\n",
    "    df[column].fillna(df[column].mode()[0], inplace=True)"
   ]
  },
  {
   "cell_type": "code",
   "execution_count": 30,
   "metadata": {},
   "outputs": [],
   "source": [
    "# Encoding categorical columns\n",
    "\n",
    "categorical_columns = ['title', 'location', 'company_profile', 'description', 'requirements', 'benefits', 'employment_type', 'required_experience', 'required_education', 'industry', 'function']\n",
    "\n",
    "X = df.drop('fraudulent', axis=1)\n",
    "y = df['fraudulent']\n",
    "\n",
    "encoder = OneHotEncoder()\n",
    "\n",
    "X_encoded = encoder.fit_transform(X)"
   ]
  },
  {
   "cell_type": "code",
   "execution_count": 31,
   "metadata": {},
   "outputs": [],
   "source": [
    "# Splitting data training and testing\n",
    "\n",
    "X_train, X_test, y_train, y_test = train_test_split(X_encoded, y, test_size=0.2, random_state=42)"
   ]
  },
  {
   "cell_type": "code",
   "execution_count": 42,
   "metadata": {},
   "outputs": [],
   "source": [
    "modelRFC = RandomForestClassifier(n_estimators=100, random_state=42)\n",
    "\n",
    "modelRFC.fit(X_train, y_train)\n",
    "\n",
    "y_predRFC = modelRFC.predict(X_test)"
   ]
  },
  {
   "cell_type": "code",
   "execution_count": 50,
   "metadata": {},
   "outputs": [],
   "source": [
    "accuracyRFC = accuracy_score(y_test, y_predRFC)\n",
    "f1_scoreRFC = f1_score(y_test, y_predRFC)"
   ]
  },
  {
   "cell_type": "markdown",
   "metadata": {},
   "source": [
    "## Gradient Boosting"
   ]
  },
  {
   "cell_type": "code",
   "execution_count": 43,
   "metadata": {},
   "outputs": [],
   "source": [
    "modelGBC = GradientBoostingClassifier(n_estimators=100, random_state=42)\n",
    "\n",
    "modelGBC.fit(X_train, y_train)\n",
    "\n",
    "y_predGBC = modelGBC.predict(X_test)"
   ]
  },
  {
   "cell_type": "code",
   "execution_count": 51,
   "metadata": {},
   "outputs": [],
   "source": [
    "accuracyGBC = accuracy_score(y_test, y_predGBC)\n",
    "f1_scoreGBC = f1_score(y_test, y_predGBC)"
   ]
  },
  {
   "cell_type": "markdown",
   "metadata": {},
   "source": [
    "## Stochastic Gradient Descent"
   ]
  },
  {
   "cell_type": "code",
   "execution_count": 44,
   "metadata": {},
   "outputs": [],
   "source": [
    "modelSGD = SGDClassifier(random_state=42)\n",
    "\n",
    "modelSGD.fit(X_train, y_train)\n",
    "\n",
    "y_predSGD = modelSGD.predict(X_test)"
   ]
  },
  {
   "cell_type": "code",
   "execution_count": 52,
   "metadata": {},
   "outputs": [],
   "source": [
    "accuracySGD = accuracy_score(y_test, y_predSGD)\n",
    "f1_scoreSGD = f1_score(y_test, y_predSGD)"
   ]
  },
  {
   "cell_type": "markdown",
   "metadata": {},
   "source": [
    "## Perbandingan ketiga algoritma"
   ]
  },
  {
   "cell_type": "code",
   "execution_count": 53,
   "metadata": {},
   "outputs": [
    {
     "name": "stdout",
     "output_type": "stream",
     "text": [
      "Akurasi RFC:  0.9787472035794184\n",
      "Akurasi GBC:  0.979586129753915\n",
      "Akurasi SGD:  0.9798657718120806\n",
      "F1 Score RFC:  0.7361111111111112\n",
      "F1 Score GBC:  0.7491408934707904\n",
      "F1 Score SGD:  0.7583892617449665\n"
     ]
    }
   ],
   "source": [
    "print(\"Akurasi RFC: \", accuracyRFC)\n",
    "print(\"Akurasi GBC: \", accuracyGBC)\n",
    "print(\"Akurasi SGD: \", accuracySGD)\n",
    "\n",
    "print(\"F1 Score RFC: \", f1_scoreRFC)\n",
    "print(\"F1 Score GBC: \", f1_scoreGBC)\n",
    "print(\"F1 Score SGD: \", f1_scoreSGD)"
   ]
  }
 ],
 "metadata": {
  "kernelspec": {
   "display_name": "machine-learning",
   "language": "python",
   "name": "python3"
  },
  "language_info": {
   "codemirror_mode": {
    "name": "ipython",
    "version": 3
   },
   "file_extension": ".py",
   "mimetype": "text/x-python",
   "name": "python",
   "nbconvert_exporter": "python",
   "pygments_lexer": "ipython3",
   "version": "3.12.4"
  }
 },
 "nbformat": 4,
 "nbformat_minor": 2
}
